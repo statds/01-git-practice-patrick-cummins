{
  "nbformat": 4,
  "nbformat_minor": 0,
  "metadata": {
    "colab": {
      "provenance": []
    },
    "kernelspec": {
      "name": "python3",
      "display_name": "Python 3"
    },
    "language_info": {
      "name": "python"
    }
  },
  "cells": [
    {
      "cell_type": "markdown",
      "source": [
        "Exercise 3"
      ],
      "metadata": {
        "id": "BgBBJa3cZV0W"
      }
    },
    {
      "cell_type": "code",
      "execution_count": 1,
      "metadata": {
        "colab": {
          "base_uri": "https://localhost:8080/"
        },
        "id": "-zZ8GD2_ZQum",
        "outputId": "a96eb3b8-d4bd-4646-9a4a-4ad6e699d9fb"
      },
      "outputs": [
        {
          "output_type": "stream",
          "name": "stdout",
          "text": [
            "Proportion of Winning when Switching vs. Winning when Not Switching for 3 doors: (0.657, 0.343)\n",
            "Proportion of Winning when Switching vs. Winning when Not Switching for 5 doors: (0.253, 0.203)\n"
          ]
        }
      ],
      "source": [
        "import random\n",
        "\n",
        "#define function\n",
        "def monty_hall_simulation(ndoors, ntrials):\n",
        "\n",
        "    #make two variables to tally the wins for switching and not switchin\n",
        "    switch_wins = 0\n",
        "    no_switch_wins = 0\n",
        "    for _ in range(ntrials):\n",
        "        # randomly select a winning door\n",
        "        winning_door = random.randint(1, ndoors)\n",
        "        # randomly select a door for the player to choose\n",
        "        player_door = random.randint(1, ndoors)\n",
        "        # create a list of all doors that are not the winning or player's door\n",
        "        non_selected_doors = [x for x in range(1, ndoors + 1) if x != player_door and x != winning_door]\n",
        "        # open a random door from the non-selected doors\n",
        "        open_door = random.choice(non_selected_doors)\n",
        "        # switch or stay with the player's door\n",
        "        switch_door = random.randint(1, ndoors)\n",
        "        while switch_door == open_door or switch_door == player_door:\n",
        "            switch_door = random.randint(1, ndoors)\n",
        "\n",
        "        #tally the wins for switching and not switching\n",
        "        if switch_door == winning_door:\n",
        "            switch_wins += 1\n",
        "        if player_door == winning_door:\n",
        "            no_switch_wins += 1\n",
        "    #make proportions for winning when switching and winning when not switching\n",
        "    switch_proportion = switch_wins / ntrials\n",
        "    no_switch_proportion = no_switch_wins / ntrials\n",
        "    return (switch_proportion, no_switch_proportion)\n",
        "\n",
        "# test the function with 3 doors and 1000 trials\n",
        "print('Proportion of Winning when Switching vs. Winning when Not Switching for 3 doors:', monty_hall_simulation(3, 1000))\n",
        "# test the function with 5 doors and 1000 trials\n",
        "print('Proportion of Winning when Switching vs. Winning when Not Switching for 5 doors:', monty_hall_simulation(5, 1000))"
      ]
    },
    {
      "cell_type": "markdown",
      "source": [
        "Exercise 4"
      ],
      "metadata": {
        "id": "OnHsfNuLZan5"
      }
    },
    {
      "cell_type": "code",
      "source": [
        "import random\n",
        "import math\n",
        "from scipy.stats import norm\n",
        "\n",
        "def monte_carlo_of_pi(n):\n",
        "    #initialize the unit circle where the points will be\n",
        "    unit_circle = 0\n",
        "\n",
        "    #create the loop for n\n",
        "    for _ in range(n):\n",
        "        #create random x, y points\n",
        "        x = random.uniform(-1, 1)\n",
        "        y = random.uniform(-1, 1)\n",
        "        #calculate distance and tally points that lie within circle\n",
        "        if math.sqrt(x**2 + y**2) <=1:\n",
        "            unit_circle += 1\n",
        "    #estimate pi\n",
        "    estimate = 4 * unit_circle / n\n",
        "    #calculate standard deviation\n",
        "    std = math.sqrt((4 * unit_circle / n) * (1 - unit_circle / n) / n)\n",
        "    #create confidence interval\n",
        "    interval = norm.interval(0.95, loc = estimate, scale = std)\n",
        "    return (estimate, interval)\n",
        "\n",
        "print('1000 simulatons:', monte_carlo_of_pi(1000))\n",
        "# test the function with sample size 2000\n",
        "print('2000 simulations:', monte_carlo_of_pi(2000))\n",
        "# test the function with sample size 4000\n",
        "print('4000 simulations:', monte_carlo_of_pi(4000))\n",
        "# test the function with sample size 8000\n",
        "print('8000 simulations:', monte_carlo_of_pi(8000))"
      ],
      "metadata": {
        "colab": {
          "base_uri": "https://localhost:8080/"
        },
        "id": "l6MsB376Zb-v",
        "outputId": "ef7c31ef-bbea-492f-f152-d91afa65ff95"
      },
      "execution_count": 2,
      "outputs": [
        {
          "output_type": "stream",
          "name": "stdout",
          "text": [
            "1000 simulatons: (3.2, (3.1504163974156354, 3.249583602584365))\n",
            "2000 simulations: (3.202, (3.166972010811348, 3.2370279891886518))\n",
            "4000 simulations: (3.138, (3.1125159644510165, 3.1634840355489833))\n",
            "8000 simulations: (3.139, (3.120987651732028, 3.1570123482679717))\n"
          ]
        }
      ]
    },
    {
      "cell_type": "markdown",
      "source": [
        "Exercise 5"
      ],
      "metadata": {
        "id": "pEpI5VulZoeF"
      }
    },
    {
      "cell_type": "code",
      "source": [
        "# importing decimal\n",
        "import decimal\n",
        "\n",
        "#defining function to determine if number is prime\n",
        "def is_prime(n):\n",
        "    #establishing what is True and False about prime numbers\n",
        "    if n <= 1:\n",
        "        return False\n",
        "    elif n <= 3:\n",
        "        return True\n",
        "    \n",
        "    # Math for prime numbers\n",
        "    elif n % 2 == 0 or n % 3 == 0:\n",
        "        return False\n",
        "    i = 5\n",
        "    while i * i <= n:\n",
        "        if n % i == 0 or n % (i + 2) == 0:\n",
        "            return False\n",
        "        i += 6\n",
        "    return True\n",
        "\n",
        "#function for finding the prime number\n",
        "def prime():\n",
        "    \n",
        "    # defining working with 10000 decimals of e\n",
        "    decimal.getcontext().prec = 10000\n",
        "\n",
        "    # Formatting e so that it is a string of just numbers (numerical values)\n",
        "    e_num = decimal.Decimal(1).exp()\n",
        "\n",
        "    e_num = str(e_num)\n",
        "\n",
        "    e_num = e_num.replace(\".\", \"\")\n",
        "\n",
        "    #loop through the index of a 10-digit sequence of e_num\n",
        "    for i in range(len(e_num) - 10):\n",
        "\n",
        "        num = int(e_num[i:i+10])\n",
        "\n",
        "        #check if number is prime with previous function\n",
        "        if is_prime(num):\n",
        "            return num\n",
        "\n",
        "prime()"
      ],
      "metadata": {
        "id": "C5T4tsRrZqDN",
        "outputId": "a35f33f8-cd46-4dd4-a07b-f526611bdb29",
        "colab": {
          "base_uri": "https://localhost:8080/"
        }
      },
      "execution_count": 3,
      "outputs": [
        {
          "output_type": "execute_result",
          "data": {
            "text/plain": [
              "7427466391"
            ]
          },
          "metadata": {},
          "execution_count": 3
        }
      ]
    }
  ]
}